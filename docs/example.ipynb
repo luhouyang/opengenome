{
    "cells": [
        {
            "cell_type": "markdown",
            "metadata": {},
            "source": [
                "# Example\n",
                "\n",
                "To use `opengenome` in a project:"
            ]
        },
        {
            "cell_type": "code",
            "execution_count": 1,
            "metadata": {},
            "outputs": [
                {
                    "name": "stdout",
                    "output_type": "stream",
                    "text": [
                        "0.1.3\n"
                    ]
                }
            ],
            "source": [
                "import opengenome as og\n",
                "print(og.__version__)"
            ]
        },
        {
            "cell_type": "code",
            "execution_count": 2,
            "metadata": {},
            "outputs": [
                {
                    "name": "stdout",
                    "output_type": "stream",
                    "text": [
                        "Welcome to Open-Genome Toolkit (OGT). Toolkit and data preparation pipeline for the Open-Genome Project.\n",
                        "\n",
                        "Open-Genome Project (OGP) is an open-source genome database for all types of AI models, using XAI techniques. We aim to map out areas of interest in various AI models that contribute to the skill & behaviour of AI models. Help researchers, ML engineers & decision makers, better understand & regulate AI development towards a safer, more useful, humanity aligned future.\n"
                    ]
                },
                {
                    "data": {
                        "text/plain": [
                            "1"
                        ]
                    },
                    "execution_count": 2,
                    "metadata": {},
                    "output_type": "execute_result"
                }
            ],
            "source": [
                "og.about()"
            ]
        }
    ],
    "metadata": {
        "kernelspec": {
            "display_name": "opengenome",
            "language": "python",
            "name": "python3"
        },
        "language_info": {
            "codemirror_mode": {
                "name": "ipython",
                "version": 3
            },
            "file_extension": ".py",
            "mimetype": "text/x-python",
            "name": "python",
            "nbconvert_exporter": "python",
            "pygments_lexer": "ipython3",
            "version": "3.12.9"
        }
    },
    "nbformat": 4,
    "nbformat_minor": 4
}
